{
 "cells": [
  {
   "cell_type": "code",
   "execution_count": 1,
   "outputs": [],
   "source": [
    "# optical flow Vis\n",
    "import numpy as np\n",
    "from matplotlib import colors\n",
    "import imageio\n",
    "from pathlib import Path\n",
    "from PIL import Image\n",
    "\n",
    "def flow_16bit_to_float(flow_16bit: np.ndarray):\n",
    "    assert flow_16bit.dtype == np.uint16\n",
    "    assert flow_16bit.ndim == 3\n",
    "    h, w, c = flow_16bit.shape\n",
    "    assert c == 3\n",
    "\n",
    "    valid2D = flow_16bit[..., 2] == 1\n",
    "    assert valid2D.shape == (h, w)\n",
    "    assert np.all(flow_16bit[~valid2D, -1] == 0)\n",
    "    valid_map = np.where(valid2D)\n",
    "\n",
    "    # to actually compute something useful:\n",
    "    flow_16bit = flow_16bit.astype('float')\n",
    "\n",
    "    flow_map = np.zeros((h, w, 2))\n",
    "    flow_map[valid_map[0], valid_map[1], 0] = (flow_16bit[valid_map[0], valid_map[1], 0] - 2 ** 15) / 128\n",
    "    flow_map[valid_map[0], valid_map[1], 1] = (flow_16bit[valid_map[0], valid_map[1], 1] - 2 ** 15) / 128\n",
    "    return flow_map, valid2D\n",
    "\n",
    "def load_flow(flowfile: str):\n",
    "    flowfile = Path(flowfile)\n",
    "    assert flowfile.exists()\n",
    "    assert flowfile.suffix == '.png'\n",
    "    flow_16bit = imageio.imread(str(flowfile), format='PNG-FI')\n",
    "    flow, valid2D = flow_16bit_to_float(flow_16bit)\n",
    "    return flow, valid2D\n",
    "\n",
    "def visualize_optical_flow(flow, scaling=None):\n",
    "    # flow -> numpy array 2 x height x width\n",
    "    # 2,h,w -> h,w,2\n",
    "    flow = flow.transpose(1,2,0)\n",
    "    flow[np.isinf(flow)]=0\n",
    "    # Use Hue, Saturation, Value colour model\n",
    "    hsv = np.zeros((flow.shape[0], flow.shape[1], 3), dtype=float)\n",
    "\n",
    "    # The additional **0.5 is a scaling factor\n",
    "    mag = np.sqrt(flow[...,0]**2+flow[...,1]**2)**0.5\n",
    "\n",
    "    ang = np.arctan2(flow[...,1], flow[...,0])\n",
    "    ang[ang<0]+=np.pi*2\n",
    "    hsv[..., 0] = ang/np.pi/2.0 # Scale from 0..1\n",
    "    hsv[..., 1] = 1\n",
    "    if scaling is None:\n",
    "        hsv[..., 2] = (mag-mag.min())/(mag-mag.min()).max() # Scale from 0..1\n",
    "    else:\n",
    "        mag[mag>scaling]=scaling\n",
    "        hsv[...,2] = mag/scaling\n",
    "    rgb = colors.hsv_to_rgb(hsv)\n",
    "    bgr = np.stack([rgb[...,2],rgb[...,1],rgb[...,0]], axis=2)\n",
    "    return bgr\n",
    "\n",
    "flow, valid2D = load_flow('D:/Game/000128.png')\n",
    "rgb_flow = visualize_optical_flow(np.transpose(flow, (2, 0, 1)))  # (480, 640, 3) 0~1\n",
    "pil_rgb_flow = Image.fromarray(np.uint8(rgb_flow * 255))\n",
    "pil_rgb_flow.save('D:/Game/000128_rgb.png')\n",
    "pil_rgb_flow.show('1')"
   ],
   "metadata": {
    "collapsed": false,
    "pycharm": {
     "name": "#%%\n"
    }
   }
  },
  {
   "cell_type": "code",
   "execution_count": 25,
   "outputs": [],
   "source": [
    "import torch\n",
    "from PIL import Image\n",
    "\n",
    "a = Image.open(r'G:\\DSEC_Dataset\\train_images\\interlaken_00_c\\images\\left\\rectified\\000000.png')\n",
    "b = Image.open(r'G:\\DSEC_Dataset\\train_images\\interlaken_00_c\\images\\left\\rectified\\000010.png')\n",
    "\n",
    "\n",
    "images_list = [np.array(a), np.array(b)]\n",
    "h, w, c = images_list[0].shape\n",
    "image_show = np.zeros((h, 0, c))\n",
    "\n",
    "for image in images_list:\n",
    "    image_show = np.concatenate((image_show, image), axis=1)\n",
    "Image.fromarray(np.uint8(image_show)).show('1')\n"
   ],
   "metadata": {
    "collapsed": false,
    "pycharm": {
     "name": "#%%\n"
    }
   }
  },
  {
   "cell_type": "code",
   "execution_count": 4,
   "outputs": [
    {
     "name": "stdout",
     "output_type": "stream",
     "text": [
      "6.0\n"
     ]
    }
   ],
   "source": [
    "a = [1, 2, 3, 4, 5, 6, 7]\n",
    "print(sum(a[-3:]) / 3)"
   ],
   "metadata": {
    "collapsed": false,
    "pycharm": {
     "name": "#%%\n"
    }
   }
  },
  {
   "cell_type": "code",
   "execution_count": null,
   "outputs": [],
   "source": [],
   "metadata": {
    "collapsed": false,
    "pycharm": {
     "name": "#%%\n"
    }
   }
  }
 ],
 "metadata": {
  "kernelspec": {
   "display_name": "Python 3",
   "language": "python",
   "name": "python3"
  },
  "language_info": {
   "codemirror_mode": {
    "name": "ipython",
    "version": 2
   },
   "file_extension": ".py",
   "mimetype": "text/x-python",
   "name": "python",
   "nbconvert_exporter": "python",
   "pygments_lexer": "ipython2",
   "version": "2.7.6"
  }
 },
 "nbformat": 4,
 "nbformat_minor": 0
}