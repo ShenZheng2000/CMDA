{
 "cells": [
  {
   "cell_type": "code",
   "execution_count": 2,
   "outputs": [
    {
     "name": "stdout",
     "output_type": "stream",
     "text": [
      "interlaken_00_c (537,)\n",
      "interlaken_00_d (1991,)\n",
      "interlaken_00_e (1991,)\n",
      "interlaken_00_f (1491,)\n",
      "interlaken_00_g (1335,)\n",
      "thun_00_a (239,)\n",
      "zurich_city_00_a (939,)\n",
      "zurich_city_00_b (1463,)\n",
      "zurich_city_01_a (681,)\n",
      "zurich_city_01_b (1325,)\n",
      "zurich_city_01_c (977,)\n",
      "zurich_city_01_d (795,)\n",
      "zurich_city_01_e (1991,)\n",
      "zurich_city_01_f (1573,)\n",
      "zurich_city_02_a (235,)\n",
      "zurich_city_02_b (1225,)\n",
      "zurich_city_02_c (2883,)\n",
      "zurich_city_02_d (1843,)\n",
      "zurich_city_02_e (1845,)\n",
      "zurich_city_03_a (883,)\n",
      "zurich_city_04_a (701,)\n",
      "zurich_city_04_b (269,)\n",
      "zurich_city_04_c (1181,)\n",
      "zurich_city_04_d (957,)\n",
      "zurich_city_04_e (269,)\n",
      "zurich_city_04_f (859,)\n",
      "zurich_city_05_a (1753,)\n",
      "zurich_city_05_b (1629,)\n",
      "zurich_city_06_a (1523,)\n",
      "zurich_city_07_a (1463,)\n",
      "zurich_city_08_a (787,)\n",
      "zurich_city_09_a (1813,)\n",
      "zurich_city_09_b (367,)\n",
      "zurich_city_09_c (1323,)\n",
      "zurich_city_09_d (1699,)\n",
      "zurich_city_09_e (817,)\n",
      "zurich_city_10_a (2315,)\n",
      "zurich_city_10_b (2405,)\n",
      "zurich_city_11_a (465,)\n",
      "zurich_city_11_b (1933,)\n",
      "zurich_city_11_c (1957,)\n",
      "done\n"
     ]
    }
   ],
   "source": [
    "import os\n",
    "import shutil\n",
    "import numpy as np\n",
    "\n",
    "root_path = 'G:/DSEC_Dataset/'\n",
    "\n",
    "city_names = os.listdir(root_path + 'train_wrap_images')\n",
    "city_names = [i for i in city_names if 'zip' not in i]\n",
    "\n",
    "for city_name in city_names:\n",
    "    create_path = '{}train_wrap_images_timestamps/{}/'.format(root_path, city_name)\n",
    "    os.makedirs(create_path) if not os.path.isdir(create_path) else None\n",
    "\n",
    "    images_timestamps = np.loadtxt('{}train_images/{}/images/timestamps.txt'.format(root_path, city_name), dtype=str)\n",
    "    print(city_name, images_timestamps.shape)\n",
    "\n",
    "    image_names = os.listdir('{}train_images/{}/images/left/rectified'.format(root_path, city_name))\n",
    "    image_names.sort()\n",
    "    assert len(image_names) == images_timestamps.shape[0]\n",
    "    for i, image_name in enumerate(image_names):\n",
    "        assert i == int(image_name.split('.')[0])\n",
    "    if not os.path.isfile(create_path + 'timestamps.txt'):\n",
    "        shutil.copy(src='{}train_images/{}/images/timestamps.txt'.format(root_path, city_name),\n",
    "                    dst=create_path + 'timestamps.txt')\n",
    "print('done')"
   ],
   "metadata": {
    "collapsed": false,
    "pycharm": {
     "name": "#%%\n"
    }
   }
  }
 ],
 "metadata": {
  "kernelspec": {
   "display_name": "Python 3",
   "language": "python",
   "name": "python3"
  },
  "language_info": {
   "codemirror_mode": {
    "name": "ipython",
    "version": 2
   },
   "file_extension": ".py",
   "mimetype": "text/x-python",
   "name": "python",
   "nbconvert_exporter": "python",
   "pygments_lexer": "ipython2",
   "version": "2.7.6"
  }
 },
 "nbformat": 4,
 "nbformat_minor": 0
}