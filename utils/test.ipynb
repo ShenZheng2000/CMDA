{
 "cells": [
  {
   "cell_type": "code",
   "execution_count": null,
   "outputs": [],
   "source": [
    "import torch\n",
    "import torch.nn as nn\n",
    "from PIL import Image\n",
    "import numpy as np\n",
    "\n",
    "class Rho(nn.Module):\n",
    "    def __init__(self):\n",
    "        super(Rho, self).__init__()\n",
    "        rho_kernels = [\n",
    "            torch.tensor([[3, -1],\n",
    "                          [-1, -1]], dtype=torch.float),\n",
    "            torch.tensor([[-1, 3],\n",
    "                          [-1, -1]], dtype=torch.float),\n",
    "            torch.tensor([[-1, -1],\n",
    "                          [-1, 3]], dtype=torch.float),\n",
    "            torch.tensor([[-1, -1],\n",
    "                          [3, -1]], dtype=torch.float)]\n",
    "        self.conv1 = nn.Conv2d(1, 4, kernel_size=2, padding=1, bias=False, padding_mode='reflect')\n",
    "        with torch.no_grad():\n",
    "            for i, kernel in enumerate(rho_kernels):\n",
    "                self.conv1.weight[i].copy_(kernel.unsqueeze(0))\n",
    "\n",
    "    @torch.no_grad()\n",
    "    def forward(self, x):\n",
    "        return self.conv1(x)\n",
    "\n",
    "edges_conv = Rho()\n",
    "img = Image.open(r'D:\\研究生\\Python\\HANet\\cityscapes\\leftImg8bit\\train\\zurich\\zurich_000000_000019_leftImg8bit.png').convert('L')\n",
    "img = torch.from_numpy(np.array(img)) / 255\n",
    "\n",
    "edges = edges_conv(torch.log((img[None, None] + 1e-2)))[:, :, :-1, :-1]\n",
    "edges = torch.max(edges, dim=1, keepdim=True)[0]\n",
    "min_clip_thres = 0.2\n",
    "max_clip_thres = torch.quantile(edges[:, :, 20:], 0.999)\n",
    "edges = torch.clamp(edges, min=min_clip_thres, max=max_clip_thres)\n",
    "edges = (edges - min_clip_thres) / (max_clip_thres - min_clip_thres)\n",
    "edges_pil = Image.fromarray(np.uint8(edges[0, 0].numpy() * 255))\n",
    "\n",
    "# img = Image.fromarray(edges_pil.numpy())\n",
    "edges_pil.show('1')"
   ],
   "metadata": {
    "collapsed": false,
    "pycharm": {
     "name": "#%%\n"
    }
   }
  },
  {
   "cell_type": "code",
   "execution_count": 4,
   "outputs": [
    {
     "name": "stdout",
     "output_type": "stream",
     "text": [
      "124\n"
     ]
    }
   ],
   "source": [
    "\n",
    "a = DotDict()\n",
    "a['abdfd'] = 124\n",
    "print(a.abdfd)"
   ],
   "metadata": {
    "collapsed": false,
    "pycharm": {
     "name": "#%%\n"
    }
   }
  },
  {
   "cell_type": "code",
   "execution_count": null,
   "outputs": [],
   "source": [],
   "metadata": {
    "collapsed": false,
    "pycharm": {
     "name": "#%%\n"
    }
   }
  }
 ],
 "metadata": {
  "kernelspec": {
   "display_name": "Python 3",
   "language": "python",
   "name": "python3"
  },
  "language_info": {
   "codemirror_mode": {
    "name": "ipython",
    "version": 2
   },
   "file_extension": ".py",
   "mimetype": "text/x-python",
   "name": "python",
   "nbconvert_exporter": "python",
   "pygments_lexer": "ipython2",
   "version": "2.7.6"
  }
 },
 "nbformat": 4,
 "nbformat_minor": 0
}